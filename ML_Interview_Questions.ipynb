{
 "cells": [
  {
   "cell_type": "markdown",
   "id": "ff4bdaaf",
   "metadata": {},
   "source": [
    "# Machine Learning"
   ]
  },
  {
   "cell_type": "raw",
   "id": "9af87b95",
   "metadata": {},
   "source": [
    "What is the Ml?"
   ]
  },
  {
   "cell_type": "raw",
   "id": "7017f3c9",
   "metadata": {},
   "source": [
    "What are types of ML?"
   ]
  },
  {
   "cell_type": "markdown",
   "id": "adaf9b46",
   "metadata": {},
   "source": [
    "# Linear Regression"
   ]
  },
  {
   "cell_type": "raw",
   "id": "692152ee",
   "metadata": {},
   "source": [
    "1.What is Linear Regression?\n",
    "\n",
    "Describe the basic concept and purpose of linear regression.# "
   ]
  },
  {
   "cell_type": "raw",
   "id": "0762d1b2",
   "metadata": {},
   "source": [
    "2.What are the Assumptions of Linear Regression?\n",
    "\n",
    "List and explain the assumptions that need to be satisfied for linear regression to be valid."
   ]
  },
  {
   "cell_type": "raw",
   "id": "d86a4eb2",
   "metadata": {},
   "source": [
    "3.How is the Regression Line Defined in Linear Regression?\n",
    "\n",
    "Explain how the regression line is calculated in terms of the slope and intercept."
   ]
  },
  {
   "cell_type": "raw",
   "id": "8ccbcfd4",
   "metadata": {},
   "source": [
    "4.What is the Cost Function in Linear Regression?\n",
    "\n",
    "Define the cost function used in linear regression and explain its purpose."
   ]
  },
  {
   "cell_type": "raw",
   "id": "21627451",
   "metadata": {},
   "source": [
    "5.How is the Least Squares Method Used in Linear Regression?\n",
    "\n",
    "Describe the principle of least squares and how it is used to estimate the coefficients in linear regression."
   ]
  },
  {
   "cell_type": "raw",
   "id": "05ccdcf7",
   "metadata": {},
   "source": [
    "6.What is the Difference Between Simple Linear Regression and Multiple Linear Regression?\n",
    "\n",
    "Explain the distinction between simple linear regression and multiple linear regression, including when each is used."
   ]
  },
  {
   "cell_type": "raw",
   "id": "56903e25",
   "metadata": {},
   "source": [
    "7.How Do You Interpret the Coefficients in Linear Regression?\n",
    "\n",
    "Discuss how to interpret the coefficients of the independent variables in the context of linear regression."
   ]
  },
  {
   "cell_type": "raw",
   "id": "ec030d35",
   "metadata": {},
   "source": [
    "8.What is the R-squared (Coefficient of Determination) in Linear Regression?\n",
    "\n",
    "Define the R-squared value and its significance in evaluating the goodness of fit of a linear regression model."
   ]
  },
  {
   "cell_type": "raw",
   "id": "241d0079",
   "metadata": {},
   "source": [
    "9.What are Residuals in the Context of Linear Regression?\n",
    "\n",
    "Define residuals and explain their importance in assessing the accuracy of a linear regression model."
   ]
  },
  {
   "cell_type": "raw",
   "id": "d6c45489",
   "metadata": {},
   "source": [
    "10.How Can Multicollinearity Affect a Linear Regression Model?\n",
    "\n",
    "Describe what multicollinearity is and how it can impact the interpretation of coefficients in a multiple linear regression model."
   ]
  },
  {
   "cell_type": "markdown",
   "id": "c998e48d",
   "metadata": {},
   "source": [
    "# Logestic Regression"
   ]
  },
  {
   "cell_type": "raw",
   "id": "a283a5f8",
   "metadata": {},
   "source": [
    "1.What is the perpose of the logestic regression?"
   ]
  },
  {
   "cell_type": "raw",
   "id": "d7191db9",
   "metadata": {},
   "source": [
    "2.What is Binary or Malticlass Classification?"
   ]
  },
  {
   "cell_type": "raw",
   "id": "6e7138be",
   "metadata": {},
   "source": [
    "3.What is the segmoid function in logestic regression?"
   ]
  },
  {
   "cell_type": "raw",
   "id": "55812f55",
   "metadata": {},
   "source": [
    "4.What is confusion matrix table?"
   ]
  },
  {
   "cell_type": "raw",
   "id": "001e85a7",
   "metadata": {},
   "source": [
    "5.How we handle multiclass classification?"
   ]
  },
  {
   "cell_type": "markdown",
   "id": "a0bd9257",
   "metadata": {},
   "source": [
    "# Design Tree"
   ]
  },
  {
   "cell_type": "raw",
   "id": "640841c3",
   "metadata": {},
   "source": [
    "1.What are the two types of design tree?"
   ]
  },
  {
   "cell_type": "code",
   "execution_count": null,
   "id": "6f140b94",
   "metadata": {},
   "outputs": [],
   "source": [
    "2."
   ]
  }
 ],
 "metadata": {
  "kernelspec": {
   "display_name": "Python 3 (ipykernel)",
   "language": "python",
   "name": "python3"
  },
  "language_info": {
   "codemirror_mode": {
    "name": "ipython",
    "version": 3
   },
   "file_extension": ".py",
   "mimetype": "text/x-python",
   "name": "python",
   "nbconvert_exporter": "python",
   "pygments_lexer": "ipython3",
   "version": "3.10.9"
  }
 },
 "nbformat": 4,
 "nbformat_minor": 5
}
