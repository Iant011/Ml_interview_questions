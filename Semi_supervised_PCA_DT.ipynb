{
 "cells": [
  {
   "cell_type": "markdown",
   "id": "1addd7b2",
   "metadata": {},
   "source": [
    " 1.Explain how a decision tree algorithm works and discuss the criteria used for splitting nodes in a decision tree. What are the advantages and disadvantages of decision trees?"
   ]
  },
  {
   "cell_type": "markdown",
   "id": "4f6fe564",
   "metadata": {},
   "source": [
    "2.What is a tree data structure"
   ]
  },
  {
   "cell_type": "markdown",
   "id": "dad96009",
   "metadata": {},
   "source": [
    "3.Explain the concept of a binary tree"
   ]
  },
  {
   "cell_type": "markdown",
   "id": "df47cdbd",
   "metadata": {},
   "source": [
    "4.What is the height (or depth) of a tree? How is it calculated?"
   ]
  },
  {
   "cell_type": "markdown",
   "id": "ad7867ac",
   "metadata": {},
   "source": [
    "5.What is a leaf node in a tree"
   ]
  },
  {
   "cell_type": "markdown",
   "id": "feff33e9",
   "metadata": {},
   "source": [
    "6.Explain the concept of a prefix tree (Trie). How is it used in practice, and what problems does it solve?"
   ]
  },
  {
   "cell_type": "markdown",
   "id": "bd0a0a77",
   "metadata": {},
   "source": [
    "# Clusterring"
   ]
  },
  {
   "cell_type": "markdown",
   "id": "65686636",
   "metadata": {},
   "source": [
    "1.What is clustering in machine learning, and how does it differ from classification?"
   ]
  },
  {
   "cell_type": "markdown",
   "id": "d47b87e8",
   "metadata": {},
   "source": [
    "2.What is the goal of K-means clustering, and how does it work?"
   ]
  },
  {
   "cell_type": "markdown",
   "id": "819c704d",
   "metadata": {},
   "source": [
    "3.In K-means clustering, how is the initial placement of cluster centroids typically determined?"
   ]
  },
  {
   "cell_type": "markdown",
   "id": "0e0d38ee",
   "metadata": {},
   "source": [
    "4.Can K-means clustering handle non-spherical or irregularly shaped clusters effectively? Why or why not?"
   ]
  },
  {
   "cell_type": "markdown",
   "id": "4332a013",
   "metadata": {},
   "source": [
    "5.What is hierarchical clustering, and how does it differ from partition-based clustering like K-means?"
   ]
  },
  {
   "cell_type": "markdown",
   "id": "9dd27f76",
   "metadata": {},
   "source": [
    "6.Explain the concept of density-based clustering. Provide an example of a density-based clustering algorithm."
   ]
  },
  {
   "cell_type": "markdown",
   "id": "9dc551a4",
   "metadata": {},
   "source": [
    "7.What is DBSCAN, and what are its advantages over K-means clustering for certain types of data?"
   ]
  },
  {
   "cell_type": "markdown",
   "id": "daeabd0a",
   "metadata": {},
   "source": [
    "# PCA (PRINCIPLE COMPONENT ANALYSIS)"
   ]
  },
  {
   "cell_type": "code",
   "execution_count": 2,
   "id": "b4239f57",
   "metadata": {},
   "outputs": [
    {
     "data": {
      "text/plain": [
       "'1.What is Principal Component Analysis (PCA) in machine learning and statistics?\\n2.What is the primary goal of PCA?\\n3.Why might you want to use PCA in a machine learning or data analysis project?\\n4.How does PCA reduce the dimensionality of a dataset?\\n5.What is the first principal component, and what information does it capture?\\n6.How are principal components ordered in PCA?\\n7.How do you choose the number of principal components to retain in PCA?\\n8.Can you name some common applications or use cases for PCA in real-world data analysis?'"
      ]
     },
     "execution_count": 2,
     "metadata": {},
     "output_type": "execute_result"
    }
   ],
   "source": [
    "\"\"\"1.What is Principal Component Analysis (PCA) in machine learning and statistics?\n",
    "2.What is the primary goal of PCA?\n",
    "3.Why might you want to use PCA in a machine learning or data analysis project?\n",
    "4.How does PCA reduce the dimensionality of a dataset?\n",
    "5.What is the first principal component, and what information does it capture?\n",
    "6.How are principal components ordered in PCA?\n",
    "7.How do you choose the number of principal components to retain in PCA?\n",
    "8.Can you name some common applications or use cases for PCA in real-world data analysis?\"\"\""
   ]
  },
  {
   "cell_type": "code",
   "execution_count": null,
   "id": "df49c423",
   "metadata": {},
   "outputs": [],
   "source": []
  }
 ],
 "metadata": {
  "kernelspec": {
   "display_name": "Python 3 (ipykernel)",
   "language": "python",
   "name": "python3"
  },
  "language_info": {
   "codemirror_mode": {
    "name": "ipython",
    "version": 3
   },
   "file_extension": ".py",
   "mimetype": "text/x-python",
   "name": "python",
   "nbconvert_exporter": "python",
   "pygments_lexer": "ipython3",
   "version": "3.10.9"
  }
 },
 "nbformat": 4,
 "nbformat_minor": 5
}
